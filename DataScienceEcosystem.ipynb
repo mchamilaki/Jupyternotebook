{
 "cells": [
  {
   "cell_type": "markdown",
   "id": "3479942a-24e5-4241-a9b7-b16f5fbde5d5",
   "metadata": {
    "tags": []
   },
   "source": [
    "# Data Science Tools and Ecosystems\n"
   ]
  },
  {
   "cell_type": "markdown",
   "id": "543e73c1-dc8d-41ec-805d-7bb6e602ab5e",
   "metadata": {
    "tags": []
   },
   "source": [
    "In this notebook, Data Science Tools and Ecosystem are summarized."
   ]
  },
  {
   "cell_type": "markdown",
   "id": "b9d46feb-5b73-4957-9b2d-43be355e9fa6",
   "metadata": {},
   "source": [
    "**Objectives**\n",
    "- List popular languages that Data Scientists use.\n",
    "- List commonly used libraries in Data Science.\n",
    "- List data science tools.\n",
    "- Write a simple arithmetic expression.\n",
    "- write Python code to convert minutes to hours.\n"
   ]
  },
  {
   "cell_type": "markdown",
   "id": "36db4119-2aef-4399-b4eb-bbfcecb73c14",
   "metadata": {},
   "source": [
    "Some of the popular languages that Data Scientists use are:\n",
    "1. Python\n",
    "2. R\n",
    "3. SQL\n",
    "4. Julia"
   ]
  },
  {
   "cell_type": "markdown",
   "id": "cb001836-3f6d-4b3f-997d-52b570f72179",
   "metadata": {},
   "source": [
    "Some of the commonly used libraries used by Data Scientists include:\n",
    "1. Pandas\n",
    "2. SciPy\n",
    "3. Matplotlib\n",
    "4. NumPy"
   ]
  },
  {
   "cell_type": "markdown",
   "id": "c840f23c-b641-4435-ad7c-8539a01cff97",
   "metadata": {},
   "source": [
    "|Data Science Tools|\n",
    "--------------------\n",
    "|Jupyter notebook|\n",
    "|R studio        |\n",
    "|Tensor flow     |"
   ]
  },
  {
   "cell_type": "markdown",
   "id": "70ed670b-44a2-4351-8e06-971d87cb1a27",
   "metadata": {},
   "source": [
    "### Below are a few examples evaluating arithmetic expressions in Python"
   ]
  },
  {
   "cell_type": "code",
   "execution_count": 4,
   "id": "372c3ba9-fc36-4877-ac56-5cca3e631ede",
   "metadata": {
    "tags": []
   },
   "outputs": [
    {
     "data": {
      "text/plain": [
       "17"
      ]
     },
     "execution_count": 4,
     "metadata": {},
     "output_type": "execute_result"
    }
   ],
   "source": [
    "#This is a simple arithmetic expression to multiply then add integers\n",
    "(3*4)+5"
   ]
  },
  {
   "cell_type": "code",
   "execution_count": 8,
   "id": "897e80b6-36f3-4431-a4fc-8f85345c732d",
   "metadata": {
    "tags": []
   },
   "outputs": [
    {
     "name": "stdout",
     "output_type": "stream",
     "text": [
      "3.3333333333333335\n"
     ]
    }
   ],
   "source": [
    "#This will convert 200 minutes to hours by dividing by 60\n",
    "minutes=200\n",
    "hours=minutes/60\n",
    "print(hours)"
   ]
  },
  {
   "cell_type": "markdown",
   "id": "c582af5e-c458-4ec8-91ee-1ba92fc8cdba",
   "metadata": {
    "tags": []
   },
   "source": [
    "##Author  \n",
    "Maria Chamilaki"
   ]
  },
  {
   "cell_type": "code",
   "execution_count": null,
   "id": "5b48c247-0331-4847-a7d3-9846c3a1ce90",
   "metadata": {},
   "outputs": [],
   "source": []
  },
  {
   "cell_type": "code",
   "execution_count": null,
   "id": "94d3af86-22f8-49a2-a451-9008e9f8e204",
   "metadata": {},
   "outputs": [],
   "source": []
  }
 ],
 "metadata": {
  "kernelspec": {
   "display_name": "Python",
   "language": "python",
   "name": "conda-env-python-py"
  },
  "language_info": {
   "codemirror_mode": {
    "name": "ipython",
    "version": 3
   },
   "file_extension": ".py",
   "mimetype": "text/x-python",
   "name": "python",
   "nbconvert_exporter": "python",
   "pygments_lexer": "ipython3",
   "version": "3.7.12"
  }
 },
 "nbformat": 4,
 "nbformat_minor": 5
}
